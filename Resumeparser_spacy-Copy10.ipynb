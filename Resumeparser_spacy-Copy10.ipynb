{
 "cells": [
  {
   "cell_type": "code",
   "execution_count": 3,
   "id": "5953823f-631c-4314-bc35-60c3d2378ddb",
   "metadata": {
    "scrolled": true
   },
   "outputs": [
    {
     "name": "stdout",
     "output_type": "stream",
     "text": [
      "Requirement already satisfied: spacy-transformers in /opt/anaconda3/envs/hello/lib/python3.9/site-packages (1.3.5)\n",
      "Requirement already satisfied: spacy<4.1.0,>=3.5.0 in /opt/anaconda3/envs/hello/lib/python3.9/site-packages (from spacy-transformers) (3.7.2)\n",
      "Requirement already satisfied: transformers<4.37.0,>=3.4.0 in /opt/anaconda3/envs/hello/lib/python3.9/site-packages (from spacy-transformers) (4.36.2)\n",
      "Requirement already satisfied: torch>=1.8.0 in /opt/anaconda3/envs/hello/lib/python3.9/site-packages (from spacy-transformers) (2.3.1)\n",
      "Requirement already satisfied: srsly<3.0.0,>=2.4.0 in /opt/anaconda3/envs/hello/lib/python3.9/site-packages (from spacy-transformers) (2.4.8)\n",
      "Requirement already satisfied: spacy-alignments<1.0.0,>=0.7.2 in /opt/anaconda3/envs/hello/lib/python3.9/site-packages (from spacy-transformers) (0.9.1)\n",
      "Requirement already satisfied: numpy>=1.19.0 in /opt/anaconda3/envs/hello/lib/python3.9/site-packages (from spacy-transformers) (1.26.4)\n",
      "Requirement already satisfied: spacy-legacy<3.1.0,>=3.0.11 in /opt/anaconda3/envs/hello/lib/python3.9/site-packages (from spacy<4.1.0,>=3.5.0->spacy-transformers) (3.0.12)\n",
      "Requirement already satisfied: spacy-loggers<2.0.0,>=1.0.0 in /opt/anaconda3/envs/hello/lib/python3.9/site-packages (from spacy<4.1.0,>=3.5.0->spacy-transformers) (1.0.4)\n",
      "Requirement already satisfied: murmurhash<1.1.0,>=0.28.0 in /opt/anaconda3/envs/hello/lib/python3.9/site-packages (from spacy<4.1.0,>=3.5.0->spacy-transformers) (1.0.7)\n",
      "Requirement already satisfied: cymem<2.1.0,>=2.0.2 in /opt/anaconda3/envs/hello/lib/python3.9/site-packages (from spacy<4.1.0,>=3.5.0->spacy-transformers) (2.0.6)\n",
      "Requirement already satisfied: preshed<3.1.0,>=3.0.2 in /opt/anaconda3/envs/hello/lib/python3.9/site-packages (from spacy<4.1.0,>=3.5.0->spacy-transformers) (3.0.6)\n",
      "Requirement already satisfied: thinc<8.3.0,>=8.1.8 in /opt/anaconda3/envs/hello/lib/python3.9/site-packages (from spacy<4.1.0,>=3.5.0->spacy-transformers) (8.2.2)\n",
      "Requirement already satisfied: wasabi<1.2.0,>=0.9.1 in /opt/anaconda3/envs/hello/lib/python3.9/site-packages (from spacy<4.1.0,>=3.5.0->spacy-transformers) (0.9.1)\n",
      "Requirement already satisfied: catalogue<2.1.0,>=2.0.6 in /opt/anaconda3/envs/hello/lib/python3.9/site-packages (from spacy<4.1.0,>=3.5.0->spacy-transformers) (2.0.10)\n",
      "Requirement already satisfied: weasel<0.4.0,>=0.1.0 in /opt/anaconda3/envs/hello/lib/python3.9/site-packages (from spacy<4.1.0,>=3.5.0->spacy-transformers) (0.3.4)\n",
      "Requirement already satisfied: typer<0.10.0,>=0.3.0 in /opt/anaconda3/envs/hello/lib/python3.9/site-packages (from spacy<4.1.0,>=3.5.0->spacy-transformers) (0.9.0)\n",
      "Requirement already satisfied: smart-open<7.0.0,>=5.2.1 in /opt/anaconda3/envs/hello/lib/python3.9/site-packages (from spacy<4.1.0,>=3.5.0->spacy-transformers) (5.2.1)\n",
      "Requirement already satisfied: tqdm<5.0.0,>=4.38.0 in /opt/anaconda3/envs/hello/lib/python3.9/site-packages (from spacy<4.1.0,>=3.5.0->spacy-transformers) (4.66.4)\n",
      "Requirement already satisfied: requests<3.0.0,>=2.13.0 in /opt/anaconda3/envs/hello/lib/python3.9/site-packages (from spacy<4.1.0,>=3.5.0->spacy-transformers) (2.32.2)\n",
      "Requirement already satisfied: pydantic!=1.8,!=1.8.1,<3.0.0,>=1.7.4 in /opt/anaconda3/envs/hello/lib/python3.9/site-packages (from spacy<4.1.0,>=3.5.0->spacy-transformers) (2.5.3)\n",
      "Requirement already satisfied: jinja2 in /opt/anaconda3/envs/hello/lib/python3.9/site-packages (from spacy<4.1.0,>=3.5.0->spacy-transformers) (3.1.4)\n",
      "Requirement already satisfied: setuptools in /opt/anaconda3/envs/hello/lib/python3.9/site-packages (from spacy<4.1.0,>=3.5.0->spacy-transformers) (69.5.1)\n",
      "Requirement already satisfied: packaging>=20.0 in /opt/anaconda3/envs/hello/lib/python3.9/site-packages (from spacy<4.1.0,>=3.5.0->spacy-transformers) (24.1)\n",
      "Requirement already satisfied: langcodes<4.0.0,>=3.2.0 in /opt/anaconda3/envs/hello/lib/python3.9/site-packages (from spacy<4.1.0,>=3.5.0->spacy-transformers) (3.3.0)\n",
      "Requirement already satisfied: filelock in /opt/anaconda3/envs/hello/lib/python3.9/site-packages (from torch>=1.8.0->spacy-transformers) (3.15.4)\n",
      "Requirement already satisfied: typing-extensions>=4.8.0 in /opt/anaconda3/envs/hello/lib/python3.9/site-packages (from torch>=1.8.0->spacy-transformers) (4.11.0)\n",
      "Requirement already satisfied: sympy in /opt/anaconda3/envs/hello/lib/python3.9/site-packages (from torch>=1.8.0->spacy-transformers) (1.13.0)\n",
      "Requirement already satisfied: networkx in /opt/anaconda3/envs/hello/lib/python3.9/site-packages (from torch>=1.8.0->spacy-transformers) (3.2.1)\n",
      "Requirement already satisfied: fsspec in /opt/anaconda3/envs/hello/lib/python3.9/site-packages (from torch>=1.8.0->spacy-transformers) (2024.6.1)\n",
      "Requirement already satisfied: huggingface-hub<1.0,>=0.19.3 in /opt/anaconda3/envs/hello/lib/python3.9/site-packages (from transformers<4.37.0,>=3.4.0->spacy-transformers) (0.23.5)\n",
      "Requirement already satisfied: pyyaml>=5.1 in /opt/anaconda3/envs/hello/lib/python3.9/site-packages (from transformers<4.37.0,>=3.4.0->spacy-transformers) (6.0.1)\n",
      "Requirement already satisfied: regex!=2019.12.17 in /opt/anaconda3/envs/hello/lib/python3.9/site-packages (from transformers<4.37.0,>=3.4.0->spacy-transformers) (2023.10.3)\n",
      "Requirement already satisfied: tokenizers<0.19,>=0.14 in /opt/anaconda3/envs/hello/lib/python3.9/site-packages (from transformers<4.37.0,>=3.4.0->spacy-transformers) (0.15.2)\n",
      "Requirement already satisfied: safetensors>=0.3.1 in /opt/anaconda3/envs/hello/lib/python3.9/site-packages (from transformers<4.37.0,>=3.4.0->spacy-transformers) (0.4.3)\n",
      "Requirement already satisfied: annotated-types>=0.4.0 in /opt/anaconda3/envs/hello/lib/python3.9/site-packages (from pydantic!=1.8,!=1.8.1,<3.0.0,>=1.7.4->spacy<4.1.0,>=3.5.0->spacy-transformers) (0.6.0)\n",
      "Requirement already satisfied: pydantic-core==2.14.6 in /opt/anaconda3/envs/hello/lib/python3.9/site-packages (from pydantic!=1.8,!=1.8.1,<3.0.0,>=1.7.4->spacy<4.1.0,>=3.5.0->spacy-transformers) (2.14.6)\n",
      "Requirement already satisfied: charset-normalizer<4,>=2 in /opt/anaconda3/envs/hello/lib/python3.9/site-packages (from requests<3.0.0,>=2.13.0->spacy<4.1.0,>=3.5.0->spacy-transformers) (2.0.4)\n",
      "Requirement already satisfied: idna<4,>=2.5 in /opt/anaconda3/envs/hello/lib/python3.9/site-packages (from requests<3.0.0,>=2.13.0->spacy<4.1.0,>=3.5.0->spacy-transformers) (3.7)\n",
      "Requirement already satisfied: urllib3<3,>=1.21.1 in /opt/anaconda3/envs/hello/lib/python3.9/site-packages (from requests<3.0.0,>=2.13.0->spacy<4.1.0,>=3.5.0->spacy-transformers) (2.2.2)\n",
      "Requirement already satisfied: certifi>=2017.4.17 in /opt/anaconda3/envs/hello/lib/python3.9/site-packages (from requests<3.0.0,>=2.13.0->spacy<4.1.0,>=3.5.0->spacy-transformers) (2024.7.4)\n",
      "Requirement already satisfied: blis<0.8.0,>=0.7.8 in /opt/anaconda3/envs/hello/lib/python3.9/site-packages (from thinc<8.3.0,>=8.1.8->spacy<4.1.0,>=3.5.0->spacy-transformers) (0.7.9)\n",
      "Requirement already satisfied: confection<1.0.0,>=0.0.1 in /opt/anaconda3/envs/hello/lib/python3.9/site-packages (from thinc<8.3.0,>=8.1.8->spacy<4.1.0,>=3.5.0->spacy-transformers) (0.1.4)\n",
      "Requirement already satisfied: click<9.0.0,>=7.1.1 in /opt/anaconda3/envs/hello/lib/python3.9/site-packages (from typer<0.10.0,>=0.3.0->spacy<4.1.0,>=3.5.0->spacy-transformers) (8.1.7)\n",
      "Requirement already satisfied: cloudpathlib<0.17.0,>=0.7.0 in /opt/anaconda3/envs/hello/lib/python3.9/site-packages (from weasel<0.4.0,>=0.1.0->spacy<4.1.0,>=3.5.0->spacy-transformers) (0.16.0)\n",
      "Requirement already satisfied: MarkupSafe>=2.0 in /opt/anaconda3/envs/hello/lib/python3.9/site-packages (from jinja2->spacy<4.1.0,>=3.5.0->spacy-transformers) (2.1.3)\n",
      "Requirement already satisfied: mpmath<1.4,>=1.1.0 in /opt/anaconda3/envs/hello/lib/python3.9/site-packages (from sympy->torch>=1.8.0->spacy-transformers) (1.3.0)\n"
     ]
    }
   ],
   "source": [
    "'''!pip install -U spacy\n",
    "!pip install spacy_transformers\n",
    "!pip install --upgrade pydantic'''\n",
    "!pip install spacy-transformers\n",
    "\n",
    "\n",
    "# install any necessary packages\n",
    "#!pip install fitz      @D\n",
    "#!pip install PyMuPDF   @D"
   ]
  },
  {
   "cell_type": "code",
   "execution_count": 2,
   "id": "6db8ec37-4865-45f9-ae52-793f5cdef971",
   "metadata": {},
   "outputs": [],
   "source": [
    "import spacy\n",
    "from spacy.tokens import DocBin\n",
    "from tqdm import tqdm\n",
    "import json\n",
    "# Change the working directory to the project folder\n",
    "\n",
    "\n"
   ]
  },
  {
   "cell_type": "code",
   "execution_count": 7,
   "id": "63c2b713-d6d9-4390-9e8e-cb2955411c27",
   "metadata": {},
   "outputs": [
    {
     "data": {
      "text/plain": [
       "'3.7.2'"
      ]
     },
     "execution_count": 7,
     "metadata": {},
     "output_type": "execute_result"
    }
   ],
   "source": [
    "spacy.__version__"
   ]
  },
  {
   "cell_type": "code",
   "execution_count": 4,
   "id": "34a1bbd9-337c-4974-a436-ad6173d629d7",
   "metadata": {},
   "outputs": [
    {
     "name": "stdout",
     "output_type": "stream",
     "text": [
      "Error: Expecting ',' delimiter: line 47002 column 5 (char 3355791)\n"
     ]
    }
   ],
   "source": [
    "with open('/Users/ekamsingh/pythonProject2/generated_resumes.json', 'r') as file:\n",
    "    data = file.read()\n",
    "import json\n",
    "\n",
    "try:\n",
    "    data = json.loads(data)\n",
    "except json.JSONDecodeError as e:\n",
    "    print(f\"Error: {e}\")\n"
   ]
  },
  {
   "cell_type": "code",
   "execution_count": 5,
   "id": "65a1025b-af8c-40ff-adb6-c67a2370f263",
   "metadata": {},
   "outputs": [
    {
     "name": "stdout",
     "output_type": "stream",
     "text": [
      "['Govardhana K Senior Software Engineer  Bengaluru, Karnataka, Karnataka - Email me on Indeed: indeed.com/r/Govardhana-K/ b2de315d95905b68  Total IT experience 5 Years 6 Months Cloud Lending Solutions INC 4 Month • Salesforce Developer Oracle 5 Years 2 Month • Core Java Developer Languages Core Java, Go Lang Oracle PL-SQL programming, Sales Force Developer with APEX.  Designations & Promotions  Willing to relocate: Anywhere  WORK EXPERIENCE  Senior Software Engineer  Cloud Lending Solutions -  Bangalore, Karnataka -  January 2018 to Present  Present  Senior Consultant  Oracle -  Bangalore, Karnataka -  November 2016 to December 2017  Staff Consultant  Oracle -  Bangalore, Karnataka -  January 2014 to October 2016  Associate Consultant  Oracle -  Bangalore, Karnataka -  November 2012 to December 2013  EDUCATION  B.E in Computer Science Engineering  Adithya Institute of Technology -  Tamil Nadu  September 2008 to June 2012  https://www.indeed.com/r/Govardhana-K/b2de315d95905b68?isid=rex-download&ikw=download-top&co=IN https://www.indeed.com/r/Govardhana-K/b2de315d95905b68?isid=rex-download&ikw=download-top&co=IN   SKILLS  APEX. (Less than 1 year), Data Structures (3 years), FLEXCUBE (5 years), Oracle (5 years), Algorithms (3 years)  LINKS  https://www.linkedin.com/in/govardhana-k-61024944/  ADDITIONAL INFORMATION  Technical Proficiency:  Languages: Core Java, Go Lang, Data Structures & Algorithms, Oracle PL-SQL programming, Sales Force with APEX. Tools: RADTool, Jdeveloper, NetBeans, Eclipse, SQL developer, PL/SQL Developer, WinSCP, Putty Web Technologies: JavaScript, XML, HTML, Webservice  Operating Systems: Linux, Windows Version control system SVN & Git-Hub Databases: Oracle Middleware: Web logic, OC4J Product FLEXCUBE: Oracle FLEXCUBE Versions 10.x, 11.x and 12.x  https://www.linkedin.com/in/govardhana-k-61024944/', {'entities': [[1749, 1755, 'COMPANIES WORKED AT'], [1696, 1702, 'COMPANIES WORKED AT'], [1417, 1423, 'COMPANIES WORKED AT'], [1356, 1793, 'SKILLS'], [1209, 1215, 'COMPANIES WORKED AT'], [1136, 1247, 'SKILLS'], [928, 932, 'GRADUATION YEAR'], [858, 889, 'COLLEGE NAME'], [821, 856, 'DEGREE'], [787, 791, 'GRADUATION YEAR'], [744, 750, 'COMPANIES WORKED AT'], [722, 742, 'DESIGNATION'], [658, 664, 'COMPANIES WORKED AT'], [640, 656, 'DESIGNATION'], [574, 580, 'COMPANIES WORKED AT'], [555, 572, 'DESIGNATION'], [470, 493, 'COMPANIES WORKED AT'], [444, 468, 'DESIGNATION'], [308, 314, 'COMPANIES WORKED AT'], [234, 240, 'COMPANIES WORKED AT'], [175, 198, 'COMPANIES WORKED AT'], [93, 136, 'EMAIL ADDRESS'], [39, 48, 'LOCATION'], [13, 37, 'DESIGNATION'], [0, 12, 'NAME']]}]\n"
     ]
    }
   ],
   "source": [
    "#Loading the annotated data\n",
    "cv_data=json.load(open('/Users/ekamsingh/pythonProject2/generated_resumes.json'))\n",
    "\n",
    "#Number of items in the dataset \n",
    "len(cv_data)\n",
    "\n",
    "#Show first item of the data\n",
    "print(cv_data[0])"
   ]
  },
  {
   "cell_type": "code",
   "execution_count": 6,
   "id": "cd32d01e-b7e5-4a70-824a-003cb0df3dbf",
   "metadata": {},
   "outputs": [
    {
     "name": "stdout",
     "output_type": "stream",
     "text": [
      "/opt/anaconda3/envs/hello/lib/python3.9/site-packages/transformers/utils/generic.py:441: UserWarning: torch.utils._pytree._register_pytree_node is deprecated. Please use torch.utils._pytree.register_pytree_node instead.\n",
      "  _torch_pytree._register_pytree_node(\n",
      "/opt/anaconda3/envs/hello/lib/python3.9/site-packages/transformers/utils/generic.py:309: UserWarning: torch.utils._pytree._register_pytree_node is deprecated. Please use torch.utils._pytree.register_pytree_node instead.\n",
      "  _torch_pytree._register_pytree_node(\n",
      "\u001b[38;5;2m✔ Auto-filled config with all values\u001b[0m\n",
      "\u001b[38;5;2m✔ Saved config\u001b[0m\n",
      "/Users/ekamsingh/Downloads/config2.cfg\n",
      "You can now add your data and train your pipeline:\n",
      "python -m spacy train config2.cfg --paths.train ./train.spacy --paths.dev ./dev.spacy\n"
     ]
    }
   ],
   "source": [
    "!python -m spacy init fill-config /Users/ekamsingh/Downloads/base_config_2.cfg  /Users/ekamsingh/Downloads/config2.cfg"
   ]
  },
  {
   "cell_type": "code",
   "execution_count": 84,
   "id": "7eccec01-4392-456e-a6a6-878ffc9644d1",
   "metadata": {},
   "outputs": [],
   "source": [
    "# DocBin objects in spaCy are a serialized format for storing multiple Doc objects efficiently. \n",
    "#They are used to save and load annotated documents in a binary format, which is particularly useful for training and processing pipelines in spaCy.\n",
    "\n",
    "#Key Features and Importance of DocBin Objects:\n",
    "#Efficiency:\n",
    "\n",
    "#DocBin objects store data in a compressed binary format, which reduces the file size and speeds up loading and saving compared to text formats like JSON.\n",
    "#Compatibility:\n",
    "\n",
    "#They are compatible with spaCy's pipeline, making it easy to integrate them into various stages of data processing and model training.\n",
    "#Data Integrity:\n",
    "\n",
    "#By using DocBin objects, you ensure that the data structure and annotations are preserved accurately, reducing the chances of data corruption or format inconsistencies."
   ]
  },
  {
   "cell_type": "code",
   "execution_count": 85,
   "id": "7d91ce22-ad05-4c61-a4ee-5894698d0766",
   "metadata": {},
   "outputs": [],
   "source": [
    "# function to create spacy DocBIn objects from the annotated data "
   ]
  },
  {
   "cell_type": "code",
   "execution_count": 7,
   "id": "61ff6d31-0c21-47a3-9dd9-0bbafb429355",
   "metadata": {},
   "outputs": [],
   "source": [
    "# Define a function to create spaCy DocBin objects from the annotated data\n",
    "\n",
    "def get_spacy_doc(file, data):\n",
    "    nlp=spacy.blank(\"en\")\n",
    "    db=DocBin()\n",
    "\n",
    "    #Iterate thorugh the data \n",
    "    for text, annot in  tqdm(data):        #This is a standard for-loop in Python that iterates over each item in data. Each item is expected to be a tuple containing text and annot.\n",
    "        doc=nlp.make_doc(text)             #tqdm is a Python library that provides a fast, extensible progress bar for loops and other iterable operations. Wrapping data with tqdm(data) will display a progress bar that updates with each iteration of the loop, giving you a visual indication of how much of the loop has been completed.\n",
    "        annot=annot['entities']            #To pass the enitties to the data \n",
    "\n",
    "\n",
    "        ents=[]                            #all the different entities \n",
    "        entity_indices=[]                  #all the emntiy indices \n",
    "\n",
    "\n",
    "        #extract entities from annotation \n",
    "        for start,end , label in annot:\n",
    "            skip_entity = False\n",
    "            for idx in range(start , end):\n",
    "                if idx in entity_indices:\n",
    "                    skip_entity = True\n",
    "                    break\n",
    "            if skip_entity:\n",
    "                continue\n",
    "\n",
    "\n",
    "            entity_indices=entity_indices + list(range(start, end))\n",
    "            try :\n",
    "                span=doc.char_span(start , end , label=label , alignment_mode=\"strict\") #In spaCy, a Span is a sequence of tokens in a Doc object. It's a convenient way to refer to and manipulate a contiguous slice of the text.\n",
    "            except:\n",
    "                continue\n",
    "\n",
    "            if span is None:                                                            #  ERROR FUNCTION \n",
    "            # Log errors for annotations that couldn't be processed\n",
    "                err_data = str([start, end]) + \"    \" + str(text) + \"\\n\"\n",
    "                file.write(err_data)\n",
    "            else:\n",
    "                ents.append(span)\n",
    "\n",
    "        try:\n",
    "            doc.ents=ents\n",
    "            db.add(doc)\n",
    "        except:\n",
    "            pass\n",
    "\n",
    "    return db "
   ]
  },
  {
   "cell_type": "code",
   "execution_count": 87,
   "id": "1cb4c7b0-81a8-46fb-8786-f5a5ad8ea6ef",
   "metadata": {},
   "outputs": [],
   "source": [
    "# Data spliiting into training and testing sets and create Spacy DocBin objects for them \n",
    "# Also log errors for the annotation process "
   ]
  },
  {
   "cell_type": "code",
   "execution_count": 8,
   "id": "7cc06752-30f4-450c-827c-100d7340f7af",
   "metadata": {},
   "outputs": [
    {
     "name": "stderr",
     "output_type": "stream",
     "text": [
      "/opt/anaconda3/envs/hello/lib/python3.9/site-packages/tqdm/auto.py:21: TqdmWarning: IProgress not found. Please update jupyter and ipywidgets. See https://ipywidgets.readthedocs.io/en/stable/user_install.html\n",
      "  from .autonotebook import tqdm as notebook_tqdm\n",
      "/opt/anaconda3/envs/hello/lib/python3.9/site-packages/transformers/utils/generic.py:441: UserWarning: torch.utils._pytree._register_pytree_node is deprecated. Please use torch.utils._pytree.register_pytree_node instead.\n",
      "  _torch_pytree._register_pytree_node(\n",
      "/opt/anaconda3/envs/hello/lib/python3.9/site-packages/transformers/utils/generic.py:309: UserWarning: torch.utils._pytree._register_pytree_node is deprecated. Please use torch.utils._pytree.register_pytree_node instead.\n",
      "  _torch_pytree._register_pytree_node(\n",
      "100%|██████████| 960/960 [00:03<00:00, 315.70it/s]\n",
      "100%|██████████| 240/240 [00:00<00:00, 319.14it/s]\n"
     ]
    }
   ],
   "source": [
    "# Split the annotated data :\n",
    "from sklearn.model_selection import train_test_split\n",
    "\n",
    "train , test = train_test_split(cv_data , test_size = 0.2)\n",
    "\n",
    "#Display the number of items in training and testing dataset\n",
    "len(train) , len(test)\n",
    "\n",
    "file=open('/Users/ekamsingh/resume_p/error.txt','w')\n",
    "\n",
    "# Spacy DocBin objects for training and testing data \n",
    "\n",
    "db = get_spacy_doc(file, train)\n",
    "db.to_disk('/Users/ekamsingh/resume_p/train_data.spacy')\n",
    "\n",
    "db = get_spacy_doc(file , test)\n",
    "db.to_disk('/Users/ekamsingh/resume_p/test_data.spacy')\n",
    "\n",
    "# close the log error  file \n",
    "file.close()"
   ]
  },
  {
   "cell_type": "code",
   "execution_count": 89,
   "id": "e3aa5af4-bfa6-4f27-bac4-c60136ad6e54",
   "metadata": {},
   "outputs": [],
   "source": [
    "# Model Training \n",
    "# Train a NER model with the provided configuration"
   ]
  },
  {
   "cell_type": "code",
   "execution_count": 30,
   "id": "fe9a4c83-c889-4777-abfc-aa9a7729fbd8",
   "metadata": {},
   "outputs": [
    {
     "name": "stdout",
     "output_type": "stream",
     "text": [
      "PyTorch version: 2.3.1\n",
      "Is MPS (Metal Performance Shader) built? True\n",
      "Is MPS available? True\n",
      "Using device: mps\n",
      "Requirement already satisfied: torch in /opt/anaconda3/envs/hello/lib/python3.9/site-packages (2.3.1)\n",
      "Requirement already satisfied: torchvision in /opt/anaconda3/envs/hello/lib/python3.9/site-packages (0.18.1)\n",
      "Collecting torchaudio\n",
      "  Downloading torchaudio-2.3.1-cp39-cp39-macosx_11_0_arm64.whl.metadata (6.4 kB)\n",
      "Requirement already satisfied: filelock in /opt/anaconda3/envs/hello/lib/python3.9/site-packages (from torch) (3.15.4)\n",
      "Requirement already satisfied: typing-extensions>=4.8.0 in /opt/anaconda3/envs/hello/lib/python3.9/site-packages (from torch) (4.11.0)\n",
      "Requirement already satisfied: sympy in /opt/anaconda3/envs/hello/lib/python3.9/site-packages (from torch) (1.13.0)\n",
      "Requirement already satisfied: networkx in /opt/anaconda3/envs/hello/lib/python3.9/site-packages (from torch) (3.2.1)\n",
      "Requirement already satisfied: jinja2 in /opt/anaconda3/envs/hello/lib/python3.9/site-packages (from torch) (3.1.4)\n",
      "Requirement already satisfied: fsspec in /opt/anaconda3/envs/hello/lib/python3.9/site-packages (from torch) (2024.6.1)\n",
      "Requirement already satisfied: numpy in /opt/anaconda3/envs/hello/lib/python3.9/site-packages (from torchvision) (1.26.4)\n",
      "Requirement already satisfied: pillow!=8.3.*,>=5.3.0 in /opt/anaconda3/envs/hello/lib/python3.9/site-packages (from torchvision) (10.3.0)\n",
      "Requirement already satisfied: MarkupSafe>=2.0 in /opt/anaconda3/envs/hello/lib/python3.9/site-packages (from jinja2->torch) (2.1.3)\n",
      "Requirement already satisfied: mpmath<1.4,>=1.1.0 in /opt/anaconda3/envs/hello/lib/python3.9/site-packages (from sympy->torch) (1.3.0)\n",
      "Downloading torchaudio-2.3.1-cp39-cp39-macosx_11_0_arm64.whl (1.8 MB)\n",
      "\u001b[2K   \u001b[90m━━━━━━━━━━━━━━━━━━━━━━━━━━━━━━━━━━━━━━━━\u001b[0m \u001b[32m1.8/1.8 MB\u001b[0m \u001b[31m2.5 MB/s\u001b[0m eta \u001b[36m0:00:00\u001b[0m00:01\u001b[0m00:01\u001b[0m\n",
      "\u001b[?25hInstalling collected packages: torchaudio\n",
      "Successfully installed torchaudio-2.3.1\n"
     ]
    }
   ],
   "source": [
    "import torch\n",
    "import numpy as np \n",
    "import pandas as pd \n",
    "import sklearn\n",
    "import matplotlib.pyplot as plt\n",
    "print(f\"PyTorch version: {torch.__version__}\")\n",
    "# Check PyTorch has access to MPS (Metal Performance Shader, Apple's GPU architecture)\n",
    "print(f\"Is MPS (Metal Performance Shader) built? {torch.backends.mps.is_built()}\")\n",
    "print(f\"Is MPS available? {torch.backends.mps.is_available()}\")\n",
    "# Set the device\n",
    "device = \"mps\" if torch. backends.mps. is_available() else \"chi\"\n",
    "print(f\"Using device: {device}\")\n",
    "\n",
    "!pip install torch torchvision torchaudio "
   ]
  },
  {
   "cell_type": "code",
   "execution_count": 9,
   "id": "d4741d6f-3aef-4a24-82b6-f2f9f8e7177e",
   "metadata": {},
   "outputs": [
    {
     "name": "stdout",
     "output_type": "stream",
     "text": [
      "\u001b[38;5;4mℹ Saving to output directory: /Users/ekamsingh/resume_p/ouput6\u001b[0m\n",
      "\u001b[38;5;4mℹ Using CPU\u001b[0m\n",
      "\u001b[38;5;4mℹ To switch to GPU 0, use the option: --gpu-id 0\u001b[0m\n",
      "\u001b[1m\n",
      "=========================== Initializing pipeline ===========================\u001b[0m\n",
      "/opt/anaconda3/envs/hello/lib/python3.9/site-packages/transformers/utils/generic.py:441: UserWarning: torch.utils._pytree._register_pytree_node is deprecated. Please use torch.utils._pytree.register_pytree_node instead.\n",
      "  _torch_pytree._register_pytree_node(\n",
      "/opt/anaconda3/envs/hello/lib/python3.9/site-packages/transformers/utils/generic.py:309: UserWarning: torch.utils._pytree._register_pytree_node is deprecated. Please use torch.utils._pytree.register_pytree_node instead.\n",
      "  _torch_pytree._register_pytree_node(\n",
      "/opt/anaconda3/envs/hello/lib/python3.9/site-packages/huggingface_hub/file_download.py:1132: FutureWarning: `resume_download` is deprecated and will be removed in version 1.0.0. Downloads always resume when possible. If you want to force a new download, use `force_download=True`.\n",
      "  warnings.warn(\n",
      "/opt/anaconda3/envs/hello/lib/python3.9/site-packages/transformers/utils/generic.py:309: UserWarning: torch.utils._pytree._register_pytree_node is deprecated. Please use torch.utils._pytree.register_pytree_node instead.\n",
      "  _torch_pytree._register_pytree_node(\n",
      "Some weights of RobertaModel were not initialized from the model checkpoint at roberta-base and are newly initialized: ['roberta.pooler.dense.weight', 'roberta.pooler.dense.bias']\n",
      "You should probably TRAIN this model on a down-stream task to be able to use it for predictions and inference.\n",
      "\u001b[38;5;2m✔ Initialized pipeline\u001b[0m\n",
      "\u001b[1m\n",
      "============================= Training pipeline =============================\u001b[0m\n",
      "\u001b[38;5;4mℹ Pipeline: ['transformer', 'ner']\u001b[0m\n",
      "\u001b[38;5;4mℹ Initial learn rate: 0.0\u001b[0m\n",
      "E    #       LOSS TRANS...  LOSS NER  ENTS_F  ENTS_P  ENTS_R  SCORE \n",
      "---  ------  -------------  --------  ------  ------  ------  ------\n",
      "  0       0        4367.71   1385.53    0.01    0.01    0.26    0.00\n",
      "  0     200      602957.53  58683.55   76.11   85.16   68.80    0.76\n",
      "  1     400       71187.73   8921.89   85.87   97.28   76.86    0.86\n",
      "  2     600       45888.10   8692.89   85.71   92.17   80.10    0.86\n",
      "  3     800       10401.04   7064.34   84.84   83.59   86.13    0.85\n",
      "  3    1000       15778.90   5047.33   88.38   98.33   80.26    0.88\n",
      "  4    1200        3836.91   5845.46   86.18   84.72   87.70    0.86\n",
      "  5    1400        2425.06   4766.99   86.23   86.23   86.23    0.86\n",
      "  6    1600        1733.74   4771.36   87.98   92.20   84.14    0.88\n",
      "  6    1800        6134.46   5313.48   88.66   91.10   86.34    0.89\n",
      "  7    2000        3321.91   4642.53   86.27   83.70   89.01    0.86\n",
      "  8    2200        1585.46   4815.20   86.36   83.73   89.16    0.86\n",
      "  9    2400        1140.52   4203.16   87.81   86.84   88.80    0.88\n",
      "  9    2600        1164.82   3865.30   89.23   93.31   85.50    0.89\n",
      " 10    2800       12696.03   4102.51   87.44   85.83   89.11    0.87\n",
      " 11    3000        1108.48   3970.11   87.43   86.25   88.64    0.87\n",
      " 12    3200        2568.01   3920.46   89.73   93.83   85.97    0.90\n",
      " 12    3400        3314.11   3877.24   89.44   91.14   87.80    0.89\n",
      " 13    3600        3480.01   3794.13   88.63   87.90   89.37    0.89\n",
      " 14    3800         311.83   2689.95   88.19   87.09   89.32    0.88\n",
      " 15    4000        3757.54   3829.94   89.15   89.67   88.64    0.89\n",
      " 16    4200         584.55   3813.22   88.66   89.11   88.22    0.89\n",
      " 16    4400        4938.88   3045.75   88.32   87.79   88.85    0.88\n",
      " 17    4600         268.10   3398.95   89.18   90.11   88.27    0.89\n",
      " 18    4800         317.20   3479.72   89.41   89.55   89.27    0.89\n",
      " 19    5000         215.93   3487.72   89.28   89.36   89.21    0.89\n",
      "\u001b[38;5;2m✔ Saved pipeline to output directory\u001b[0m\n",
      "/Users/ekamsingh/resume_p/ouput6/model-last\n"
     ]
    },
    {
     "data": {
      "text/plain": [
       "\"--paths.dev /content/drive/MyDrive/Custom_NER/trained_models/test_data.spacy:\\nThis specifies the path to the development (or validation) data in the .spacy format.\\nThe DocBin object for the test data will be used to evaluate the model's performance during training.\""
      ]
     },
     "execution_count": 9,
     "metadata": {},
     "output_type": "execute_result"
    }
   ],
   "source": [
    "!python -m spacy train /Users/ekamsingh/Downloads/config2.cfg --output /Users/ekamsingh/resume_p/ouput6 --paths.train /Users/ekamsingh/resume_p/train_data.spacy --paths.dev /Users/ekamsingh/resume_p/test_data.spacy \n",
    "\n",
    "\n",
    "'''/Users/ekamsingh/EY - Internship Project/config/config.cfg :\n",
    "This is the path to the configuration file. \n",
    "The configuration file (config.cfg) contains all the settings and hyperparameters needed for training the model, including the components of the pipeline, optimization parameters, and data paths.'''\n",
    "\n",
    "'''--output /content/drive/MyDrive/Custom_NER/trained_models/output:\n",
    "This specifies the directory where the trained model and other output files will be saved.\n",
    "After training, this directory will contain the trained model files, logs, and other relevant outputs.'''\n",
    "\n",
    "''' --paths.train /content/drive/MyDrive/Custom_NER/trained_models/train_data.spacy:\n",
    "This specifies the path to the training data in the .spacy format. \n",
    "The DocBin object for the training data, which was created and saved earlier, will be used during the training process.'''\n",
    "\n",
    "'''--paths.dev /content/drive/MyDrive/Custom_NER/trained_models/test_data.spacy:\n",
    "This specifies the path to the development (or validation) data in the .spacy format.\n",
    "The DocBin object for the test data will be used to evaluate the model's performance during training.'''"
   ]
  },
  {
   "cell_type": "code",
   "execution_count": 3,
   "id": "187f7ac8-088a-4ef0-b002-0c4573fd94fc",
   "metadata": {},
   "outputs": [
    {
     "name": "stderr",
     "output_type": "stream",
     "text": [
      "/opt/anaconda3/envs/hello/lib/python3.9/site-packages/tqdm/auto.py:21: TqdmWarning: IProgress not found. Please update jupyter and ipywidgets. See https://ipywidgets.readthedocs.io/en/stable/user_install.html\n",
      "  from .autonotebook import tqdm as notebook_tqdm\n",
      "/opt/anaconda3/envs/hello/lib/python3.9/site-packages/transformers/utils/generic.py:441: UserWarning: torch.utils._pytree._register_pytree_node is deprecated. Please use torch.utils._pytree.register_pytree_node instead.\n",
      "  _torch_pytree._register_pytree_node(\n",
      "/opt/anaconda3/envs/hello/lib/python3.9/site-packages/transformers/utils/generic.py:309: UserWarning: torch.utils._pytree._register_pytree_node is deprecated. Please use torch.utils._pytree.register_pytree_node instead.\n",
      "  _torch_pytree._register_pytree_node(\n",
      "/opt/anaconda3/envs/hello/lib/python3.9/site-packages/transformers/utils/generic.py:309: UserWarning: torch.utils._pytree._register_pytree_node is deprecated. Please use torch.utils._pytree.register_pytree_node instead.\n",
      "  _torch_pytree._register_pytree_node(\n"
     ]
    }
   ],
   "source": [
    "nlp=spacy.load('/Users/ekamsingh/resume_p/model_for_ner_saved6')"
   ]
  },
  {
   "cell_type": "code",
   "execution_count": 11,
   "id": "536faf8f-407a-42bf-a28d-d71e13823841",
   "metadata": {},
   "outputs": [
    {
     "name": "stdout",
     "output_type": "stream",
     "text": [
      "Model saved to /Users/ekamsingh/resume_p/model_for_ner_saved6\n"
     ]
    }
   ],
   "source": [
    "# Saving the model \n",
    "\n",
    "#Assuming nlp is your trained model\n",
    "output_dir = '/Users/ekamsingh/resume_p/model_for_ner_saved6'\n",
    "nlp.to_disk(output_dir)\n",
    "\n",
    "print(f\"Model saved to {output_dir}\")"
   ]
  },
  {
   "cell_type": "code",
   "execution_count": null,
   "id": "00e8e619-6f17-4667-8c50-3ab0283a23a3",
   "metadata": {},
   "outputs": [],
   "source": [
    "#testing the dataset\n"
   ]
  },
  {
   "cell_type": "code",
   "execution_count": null,
   "id": "e7ebed0f-6335-46e9-b4a1-13afb1068e8a",
   "metadata": {
    "scrolled": true
   },
   "outputs": [],
   "source": [
    "#load the trained nlp model \n",
    "\n",
    "\n",
    "import sys\n",
    "import fitz\n",
    "\n",
    "#fname='/Users/ekamsingh/custom_ner/resume_ekam _singh3.pdf'\n",
    "fname= '/Users/ekamsingh/Downloads/resumes/RishabhGaur.pdf'\n",
    "\n",
    "#Open the document using PyMupdf\n",
    "\n",
    "doc=fitz.open(fname)\n",
    "\n",
    "#initialize an empty string to store extracted text from the PDF\n",
    "\n",
    "text=''\n",
    "\n",
    "#iterate thorugh each page and concatenate the text \n",
    "\n",
    "for page in doc:\n",
    "    text=text + str(page.get_text()) #extracting text from each page of the doc \n",
    "\n",
    "text=text.strip() #removes any leading or trailing whitespace \n",
    "\n",
    "#Display the extracted text \n",
    "\n",
    "print(text)"
   ]
  },
  {
   "cell_type": "code",
   "execution_count": 6,
   "id": "e9341d2d-dfa2-487a-b32e-b95eb7137fe2",
   "metadata": {},
   "outputs": [
    {
     "name": "stdout",
     "output_type": "stream",
     "text": [
      "\n",
      "Rishabh Gaur\n",
      "E-mail: 11seprishabh@gmail.com\n",
      "Phone no: +91-9660600736\n",
      "Summary\n",
      " 2.5 year of experience in I.T. industry in web and mobile development.\n",
      " Strong team player with sound experience in all phases of SDLC.\n",
      " Experience in Analyzing and Documenting the Customer requirements, Design,\n",
      "Development, Quality adherence, Implementation and Documentation\n",
      "o Good communication, collaboration & team building skills with proficiency at\n",
      "grasping new technical concepts quickly and utilize the same in a productive\n",
      "manner.\n",
      " My technological forte is:\n",
      "o Operating Systems: Ubuntu, Windows and macOS.\n",
      "o Technologies & Skill sets: Ionic, AngularJS (v: 6), NodeJS, JavaScript, IOS, Nginx,\n",
      "and Android.\n",
      "o Databases: MySQL and MongoDB.\n",
      "o Tools: Visual Studio Code and Postman.\n",
      "o Version Control Systems: GitHub.\n",
      "Education\n",
      " Bachelors of Technology - 2017 –JECRC, Jaipur - Information Technology: 73%\n",
      " XII - 2013 – RBSE: 80.60%\n",
      " X - 2011 – RBSE: 80.50%\n",
      "Experience\n",
      " May, 2016 - July, 2016\n",
      "Android Developer (Intern) | ComSkyNet technology| Jaipur\n",
      " Feb, 2017-May, 2019\n",
      "Software Engineer (Full stack developer) | Newgen Software Technologies Ltd. | Noida\n",
      " June, 2020 – Jan, 2022\n",
      "Freelancing\n",
      "\n",
      " WORKEEFY: A innovative digital marketplace for instant home services provided by\n",
      "trained professionals that serve clients throughout the Toronto, GTA, Ottawa and now\n",
      "entering Calgary region too. Also, we had developed an admin side panel to handle all the\n",
      "flow of user Workeefyer (service provider) and admin activities.\n",
      "Tools Used: Visual Studio Code.\n",
      "Technologies: IonicJS, AngularJS, NodeJS.\n",
      "Team Size: 6\n",
      " I-Aptt: It is an Android app which is useful for the students who are preparing for various\n",
      "competitive exams like GATE, IAS and GRE etc.\n",
      "Tools Used: Visual Studio Code, Android Studio.\n",
      "Technologies: firebase.\n",
      "Team Size: 1\n",
      " Blood-Donor Family: It is an Android application which can easily find blood donor, when\n",
      "immediate need of donor occurs. Using location we can easily locate donor and having an\n",
      "interactive interface to interact with each other.\n",
      "Tools Used: Visual Studio Code, Postman, Android Studio.\n",
      "Technologies: firebase, Google cloud messaging.\n",
      "Team Size: 1\n",
      "\n",
      " Completed the Community Coaches Training Program of Sports & Games for the Disabled\n",
      "by Ministry of Youth Affairs & Sports, Gov. of India.\n",
      " Gold Medalist in “Talent Search, Culture & General knowledge” A State level Competition\n",
      "by Vidhyarthi Kalyan trust, Jaipur.\n",
      " Awarded by Scholarship of MHRD (Ministry of Human Resource Development).\n",
      "\n",
      " Core team member of Renaissance’16-An annual techno cultural fest of JECRC, Jaipur.\n",
      " Volunteered “RUNWAY TO SUCCESS” an entrepreneurship event of TIE (The Indus\n",
      "Entrepreneurs), Jaipur.\n",
      " Coordinate an event “New Venture” a business plan competition.\n",
      " Participated as an International Press member in JECRC MUN’16.\n",
      " Member of “Fotogra Freaks”, photography club of JECRC, Jaipur.\n",
      " Student Coordinator at EDC-IIPC cell at JECRC, Jaipur.\n",
      " Organized various events during News Week 2017-2019 in Newgen Software.\n",
      " Working as a journalist in weekly newspaper “Insaaf Ki Dagar”.\n",
      "Seminars/Workshop attended\n",
      " Attended 2 days’ workshop on “Entrepreneurship Development Program” by MANASSO\n",
      "(Management associate private limited, Noida).\n",
      " Actively participated in Food Tech (2014-15, 2015-16) organized by MSME.\n",
      " Attended 1-week workshop on Exports Marketing Documentation & Procedure by MSME\n",
      "(Ministry of Micro, small & Medium Enterprises).\n",
      " Attended 2 days’ workshop “Digital India Summit” by Microsoft\n",
      "\n"
     ]
    }
   ],
   "source": [
    "import re\n",
    "\n",
    "# Define the resume text\n",
    "\n",
    "# Define the resume text\n",
    "resume_text = \"\"\"\n",
    "Rishabh Gaur\n",
    "E-mail: 11seprishabh@gmail.com\n",
    "Phone no: +91-9660600736\n",
    "Summary\n",
    " 2.5 year of experience in I.T. industry in web and mobile development.\n",
    " Strong team player with sound experience in all phases of SDLC.\n",
    " Experience in Analyzing and Documenting the Customer requirements, Design,\n",
    "Development, Quality adherence, Implementation and Documentation\n",
    "o Good communication, collaboration & team building skills with proficiency at\n",
    "grasping new technical concepts quickly and utilize the same in a productive\n",
    "manner.\n",
    " My technological forte is:\n",
    "o Operating Systems: Ubuntu, Windows and macOS.\n",
    "o Technologies & Skill sets: Ionic, AngularJS (v: 6), NodeJS, JavaScript, IOS, Nginx,\n",
    "and Android.\n",
    "o Databases: MySQL and MongoDB.\n",
    "o Tools: Visual Studio Code and Postman.\n",
    "o Version Control Systems: GitHub.\n",
    "Education\n",
    " Bachelors of Technology - 2017 –JECRC, Jaipur - Information Technology: 73%\n",
    " XII - 2013 – RBSE: 80.60%\n",
    " X - 2011 – RBSE: 80.50%\n",
    "Experience\n",
    " May, 2016 - July, 2016\n",
    "Android Developer (Intern) | ComSkyNet technology| Jaipur\n",
    " Feb, 2017-May, 2019\n",
    "Software Engineer (Full stack developer) | Newgen Software Technologies Ltd. | Noida\n",
    " June, 2020 – Jan, 2022\n",
    "Freelancing\n",
    "Projects\n",
    " WORKEEFY: A innovative digital marketplace for instant home services provided by\n",
    "trained professionals that serve clients throughout the Toronto, GTA, Ottawa and now\n",
    "entering Calgary region too. Also, we had developed an admin side panel to handle all the\n",
    "flow of user Workeefyer (service provider) and admin activities.\n",
    "Tools Used: Visual Studio Code.\n",
    "Technologies: IonicJS, AngularJS, NodeJS.\n",
    "Team Size: 6\n",
    " I-Aptt: It is an Android app which is useful for the students who are preparing for various\n",
    "competitive exams like GATE, IAS and GRE etc.\n",
    "Tools Used: Visual Studio Code, Android Studio.\n",
    "Technologies: firebase.\n",
    "Team Size: 1\n",
    " Blood-Donor Family: It is an Android application which can easily find blood donor, when\n",
    "immediate need of donor occurs. Using location we can easily locate donor and having an\n",
    "interactive interface to interact with each other.\n",
    "Tools Used: Visual Studio Code, Postman, Android Studio.\n",
    "Technologies: firebase, Google cloud messaging.\n",
    "Team Size: 1\n",
    "Awards and Acknowledgments\n",
    " Completed the Community Coaches Training Program of Sports & Games for the Disabled\n",
    "by Ministry of Youth Affairs & Sports, Gov. of India.\n",
    " Gold Medalist in “Talent Search, Culture & General knowledge” A State level Competition\n",
    "by Vidhyarthi Kalyan trust, Jaipur.\n",
    " Awarded by Scholarship of MHRD (Ministry of Human Resource Development).\n",
    "Extra-Curricular Activities\n",
    " Core team member of Renaissance’16-An annual techno cultural fest of JECRC, Jaipur.\n",
    " Volunteered “RUNWAY TO SUCCESS” an entrepreneurship event of TIE (The Indus\n",
    "Entrepreneurs), Jaipur.\n",
    " Coordinate an event “New Venture” a business plan competition.\n",
    " Participated as an International Press member in JECRC MUN’16.\n",
    " Member of “Fotogra Freaks”, photography club of JECRC, Jaipur.\n",
    " Student Coordinator at EDC-IIPC cell at JECRC, Jaipur.\n",
    " Organized various events during News Week 2017-2019 in Newgen Software.\n",
    " Working as a journalist in weekly newspaper “Insaaf Ki Dagar”.\n",
    "Seminars/Workshop attended\n",
    " Attended 2 days’ workshop on “Entrepreneurship Development Program” by MANASSO\n",
    "(Management associate private limited, Noida).\n",
    " Actively participated in Food Tech (2014-15, 2015-16) organized by MSME.\n",
    " Attended 1-week workshop on Exports Marketing Documentation & Procedure by MSME\n",
    "(Ministry of Micro, small & Medium Enterprises).\n",
    " Attended 2 days’ workshop “Digital India Summit” by Microsoft\n",
    "\"\"\"\n",
    "\n",
    "# Define the sections to remove\n",
    "sections_to_remove = [\n",
    "    \"Projects\",\n",
    "    \"Awards and Acknowledgments\",\n",
    "    \"Extra-Curricular Activities\",\n",
    "    \"Seminars/Workshops Attended\"\n",
    "]\n",
    "\n",
    "# Function to remove sections from resume\n",
    "def remove_sections(text, sections):\n",
    "    for section in sections:\n",
    "        section_pattern = re.compile(rf\"{section}.*?(?=\\n\\S|\\Z)\", re.DOTALL)\n",
    "        text = re.sub(section_pattern, \"\", text)\n",
    "    return text\n",
    "\n",
    "# Remove specified sections\n",
    "cleaned_resume_text = remove_sections(resume_text, sections_to_remove)\n",
    "\n",
    "# Print the cleaned resume\n",
    "print(cleaned_resume_text)"
   ]
  },
  {
   "cell_type": "code",
   "execution_count": 7,
   "id": "07b1c9af-9f7a-4ac0-beec-678bdd759ea2",
   "metadata": {},
   "outputs": [
    {
     "name": "stdout",
     "output_type": "stream",
     "text": [
      "\n",
      "Rishabh Gaur\n",
      "E-mail: 11seprishabh@gmail.com\n",
      "Phone no: +91-9660600736\n",
      "Summary\n",
      " 2.5 year of experience in I.T. industry in web and mobile development.\n",
      " Strong team player with sound experience in all phases of SDLC.\n",
      " Experience in Analyzing and Documenting the Customer requirements, Design,\n",
      "Development, Quality adherence, Implementation and Documentation\n",
      "o Good communication, collaboration & team building skills with proficiency at\n",
      "grasping new technical concepts quickly and utilize the same in a productive\n",
      "manner.\n",
      " My technological forte is:\n",
      "o Operating Systems: Ubuntu, Windows and macOS.\n",
      "o Technologies & Skill sets: Ionic, AngularJS (v: 6), NodeJS, JavaScript, IOS, Nginx,\n",
      "and Android.\n",
      "o Databases: MySQL and MongoDB.\n",
      "o Tools: Visual Studio Code and Postman.\n",
      "o Version Control Systems: GitHub.\n",
      "Education\n",
      " Bachelors of Technology - 2017 –JECRC, Jaipur - Information Technology: 73%\n",
      " XII - 2013 – RBSE: 80.60%\n",
      " X - 2011 – RBSE: 80.50%\n",
      "Experience\n",
      " May, 2016 - July, 2016\n",
      "Android Developer (Intern) | ComSkyNet technology| Jaipur\n",
      " Feb, 2017-May, 2019\n",
      "Software Engineer (Full stack developer) | Newgen Software Technologies Ltd. | Noida\n",
      " June, 2020 – Jan, 2022\n",
      "Freelancing\n",
      "\n",
      " WORKEEFY: A innovative digital marketplace for instant home services provided by\n",
      "trained professionals that serve clients throughout the Toronto, GTA, Ottawa and now\n",
      "entering Calgary region too. Also, we had developed an admin side panel to handle all the\n",
      "flow of user Workeefyer (service provider) and admin activities.\n",
      "Tools Used: Visual Studio Code.\n",
      "Technologies: IonicJS, AngularJS, NodeJS.\n",
      "Team Size: 6\n",
      " I-Aptt: It is an Android app which is useful for the students who are preparing for various\n",
      "competitive exams like GATE, IAS and GRE etc.\n",
      "Tools Used: Visual Studio Code, Android Studio.\n",
      "Technologies: firebase.\n",
      "Team Size: 1\n",
      " Blood-Donor Family: It is an Android application which can easily find blood donor, when\n",
      "immediate need of donor occurs. Using location we can easily locate donor and having an\n",
      "interactive interface to interact with each other.\n",
      "Tools Used: Visual Studio Code, Postman, Android Studio.\n",
      "Technologies: firebase, Google cloud messaging.\n",
      "Team Size: 1\n",
      "\n",
      " Completed the Community Coaches Training Program of Sports & Games for the Disabled\n",
      "by Ministry of Youth Affairs & Sports, Gov. of India.\n",
      " Gold Medalist in “Talent Search, Culture & General knowledge” A State level Competition\n",
      "by Vidhyarthi Kalyan trust, Jaipur.\n",
      " Awarded by Scholarship of MHRD (Ministry of Human Resource Development).\n",
      "\n",
      " Core team member of Renaissance’16-An annual techno cultural fest of JECRC, Jaipur.\n",
      " Volunteered “RUNWAY TO SUCCESS” an entrepreneurship event of TIE (The Indus\n",
      "Entrepreneurs), Jaipur.\n",
      " Coordinate an event “New Venture” a business plan competition.\n",
      " Participated as an International Press member in JECRC MUN’16.\n",
      " Member of “Fotogra Freaks”, photography club of JECRC, Jaipur.\n",
      " Student Coordinator at EDC-IIPC cell at JECRC, Jaipur.\n",
      " Organized various events during News Week 2017-2019 in Newgen Software.\n",
      " Working as a journalist in weekly newspaper “Insaaf Ki Dagar”.\n",
      "Seminars/Workshop attended\n",
      " Attended 2 days’ workshop on “Entrepreneurship Development Program” by MANASSO\n",
      "(Management associate private limited, Noida).\n",
      " Actively participated in Food Tech (2014-15, 2015-16) organized by MSME.\n",
      " Attended 1-week workshop on Exports Marketing Documentation & Procedure by MSME\n",
      "(Ministry of Micro, small & Medium Enterprises).\n",
      " Attended 2 days’ workshop “Digital India Summit” by Microsoft\n",
      "\n"
     ]
    }
   ],
   "source": [
    "'''bullet_points = [\n",
    "    \"•\",  # Solid bullet\n",
    "    \"-\",  # Dash\n",
    "    \"–\",  # En dash\n",
    "    \"—\",  # Em dash\n",
    "    \"○\",  # Hollow circle\n",
    "    \"▪\",  # Solid square\n",
    "    \"■\",  # Filled square\n",
    "    \"▶\",  # Filled triangle\n",
    "    \"►\",  # Solid arrowhead\n",
    "    \"✓\",  # Checkmark\n",
    "    \"➤\",  # Arrowhead\n",
    "    \"‣\",  # Triangular bullet\n",
    "    \"●\",\n",
    "    \n",
    "]\n",
    "\n",
    "# Remove bullet points from text\n",
    "for bullet in bullet_points:\n",
    "    text = cleaned_resume_text.replace(bullet, '')\n",
    "\n",
    "print(text)'''"
   ]
  },
  {
   "cell_type": "code",
   "execution_count": 11,
   "id": "4ea648b8-eb55-46f8-98f7-55e3ae19f86f",
   "metadata": {},
   "outputs": [
    {
     "name": "stdout",
     "output_type": "stream",
     "text": [
      "Rishabh Gaur E-mail: 11seprishabh@gmail.com Phone no: +91-9660600736 Summary  2.5 year of experience in I.T. industry in web and mobile development.  Strong team player with sound experience in all phases of SDLC.  Experience in Analyzing and Documenting the Customer requirements, Design, Development, Quality adherence, Implementation and Documentation o Good communication, collaboration & team building skills with proficiency at grasping new technical concepts quickly and utilize the same in a productive manner.  My technological forte is: o Operating Systems: Ubuntu, Windows and macOS. o Technologies & Skill sets: Ionic, AngularJS (v: 6), NodeJS, JavaScript, IOS, Nginx, and Android. o Databases: MySQL and MongoDB. o Tools: Visual Studio Code and Postman. o Version Control Systems: GitHub. Education  Bachelors of Technology - 2017 –JECRC, Jaipur - Information Technology: 73%  XII - 2013 – RBSE: 80.60%  X - 2011 – RBSE: 80.50% Experience  May, 2016 - July, 2016 Android Developer (Intern) | ComSkyNet technology| Jaipur  Feb, 2017-May, 2019 Software Engineer (Full stack developer) | Newgen Software Technologies Ltd. | Noida  June, 2020 – Jan, 2022 Freelancing  WORKEEFY: A innovative digital marketplace for instant home services provided by trained professionals that serve clients throughout the Toronto, GTA, Ottawa and now entering Calgary region too. Also, we had developed an admin side panel to handle all the flow of user Workeefyer (service provider) and admin activities. Tools Used: Visual Studio Code. Technologies: IonicJS, AngularJS, NodeJS. Team Size: 6  I-Aptt: It is an Android app which is useful for the students who are preparing for various competitive exams like GATE, IAS and GRE etc. Tools Used: Visual Studio Code, Android Studio. Technologies: firebase. Team Size: 1  Blood-Donor Family: It is an Android application which can easily find blood donor, when immediate need of donor occurs. Using location we can easily locate donor and having an interactive interface to interact with each other. Tools Used: Visual Studio Code, Postman, Android Studio. Technologies: firebase, Google cloud messaging. Team Size: 1  Completed the Community Coaches Training Program of Sports & Games for the Disabled by Ministry of Youth Affairs & Sports, Gov. of India.  Gold Medalist in “Talent Search, Culture & General knowledge” A State level Competition by Vidhyarthi Kalyan trust, Jaipur.  Awarded by Scholarship of MHRD (Ministry of Human Resource Development).  Core team member of Renaissance’16-An annual techno cultural fest of JECRC, Jaipur.  Volunteered “RUNWAY TO SUCCESS” an entrepreneurship event of TIE (The Indus Entrepreneurs), Jaipur.  Coordinate an event “New Venture” a business plan competition.  Participated as an International Press member in JECRC MUN’16.  Member of “Fotogra Freaks”, photography club of JECRC, Jaipur.  Student Coordinator at EDC-IIPC cell at JECRC, Jaipur.  Organized various events during News Week 2017-2019 in Newgen Software.  Working as a journalist in weekly newspaper “Insaaf Ki Dagar”. Seminars/Workshop attended  Attended 2 days’ workshop on “Entrepreneurship Development Program” by MANASSO (Management associate private limited, Noida).  Actively participated in Food Tech (2014-15, 2015-16) organized by MSME.  Attended 1-week workshop on Exports Marketing Documentation & Procedure by MSME (Ministry of Micro, small & Medium Enterprises).  Attended 2 days’ workshop “Digital India Summit” by Microsoft\n"
     ]
    }
   ],
   "source": [
    "text = ' '.join(cleaned_resume_text.split())  #splits the string with extr whitespace as a delimeter and then after splitting it joins the string again\n",
    "print(text)"
   ]
  },
  {
   "cell_type": "code",
   "execution_count": 9,
   "id": "57908d16-a43c-4fa7-b647-d94b9dcae710",
   "metadata": {},
   "outputs": [
    {
     "name": "stdout",
     "output_type": "stream",
     "text": [
      "Rishabh Gaur ----> NAME\n",
      "11seprishabh@gmail.com ----> EMAIL ADDRESS\n",
      "2.5 year ----> YEARS OF EXPERIENCE\n",
      "Bachelors of Technology ----> DEGREE\n",
      "2017 ----> GRADUATION YEAR\n",
      "2013 ----> GRADUATION YEAR\n",
      "Jaipur ----> COMPANIES WORKED AT\n"
     ]
    }
   ],
   "source": [
    "doc=nlp(text)\n",
    "\n",
    "for ent in doc.ents:\n",
    "    print(ent.text , \"---->\" ,ent.label_)"
   ]
  },
  {
   "cell_type": "code",
   "execution_count": null,
   "id": "13bbb14d-df7b-4e35-aaea-0235ee06a684",
   "metadata": {},
   "outputs": [
    {
     "name": "stderr",
     "output_type": "stream",
     "text": [
      "/opt/anaconda3/envs/hello/lib/python3.9/site-packages/spacy/util.py:1817: UserWarning: [W124] 0.0.0.0:5000 is already in use, using the nearest available port 5003 as an alternative.\n",
      "  warnings.warn(Warnings.W124.format(host=host, port=start, serve_port=port))\n",
      "/opt/anaconda3/envs/hello/lib/python3.9/site-packages/spacy/displacy/__init__.py:106: UserWarning: [W011] It looks like you're calling displacy.serve from within a Jupyter notebook or a similar environment. This likely means you're already running a local web server, so there's no need to make displaCy start another one. Instead, you should be able to replace displacy.serve with displacy.render to show the visualization.\n",
      "  warnings.warn(Warnings.W011)\n"
     ]
    },
    {
     "data": {
      "text/html": [
       "<span class=\"tex2jax_ignore\"><!DOCTYPE html>\n",
       "<html lang=\"en\">\n",
       "    <head>\n",
       "        <title>displaCy</title>\n",
       "    </head>\n",
       "\n",
       "    <body style=\"font-size: 16px; font-family: -apple-system, BlinkMacSystemFont, 'Segoe UI', Helvetica, Arial, sans-serif, 'Apple Color Emoji', 'Segoe UI Emoji', 'Segoe UI Symbol'; padding: 4rem 2rem; direction: ltr\">\n",
       "<figure style=\"margin-bottom: 6rem\">\n",
       "<div class=\"entities\" style=\"line-height: 2.5; direction: ltr\">\n",
       "<mark class=\"entity\" style=\"background: #ddd; padding: 0.45em 0.6em; margin: 0 0.25em; line-height: 1; border-radius: 0.35em;\">\n",
       "    Rishabh Gaur\n",
       "    <span style=\"font-size: 0.8em; font-weight: bold; line-height: 1; border-radius: 0.35em; vertical-align: middle; margin-left: 0.5rem\">NAME</span>\n",
       "</mark>\n",
       " Email: \n",
       "<mark class=\"entity\" style=\"background: #ddd; padding: 0.45em 0.6em; margin: 0 0.25em; line-height: 1; border-radius: 0.35em;\">\n",
       "    11seprishabh@gmail.com\n",
       "    <span style=\"font-size: 0.8em; font-weight: bold; line-height: 1; border-radius: 0.35em; vertical-align: middle; margin-left: 0.5rem\">EMAIL ADDRESS</span>\n",
       "</mark>\n",
       " Phone no: +919660600736 Summary  \n",
       "<mark class=\"entity\" style=\"background: #ddd; padding: 0.45em 0.6em; margin: 0 0.25em; line-height: 1; border-radius: 0.35em;\">\n",
       "    2.5 year\n",
       "    <span style=\"font-size: 0.8em; font-weight: bold; line-height: 1; border-radius: 0.35em; vertical-align: middle; margin-left: 0.5rem\">YEARS OF EXPERIENCE</span>\n",
       "</mark>\n",
       " of experience in I.T. industry in web and mobile development.  Strong team player with sound experience in all phases of SDLC.  Experience in Analyzing and Documenting the Customer requirements, Design, Development, Quality adherence, Implementation and Documentation o Good communication, collaboration &amp; team building skills with proficiency at grasping new technical concepts quickly and utilize the same in a productive manner.  My technological forte is: o Operating Systems: Ubuntu, Windows and macOS. o Technologies &amp; Skill sets: Ionic, AngularJS (v: 6), NodeJS, JavaScript, IOS, Nginx, and Android. o Databases: MySQL and MongoDB. o Tools: Visual Studio Code and Postman. o Version Control Systems: GitHub. Education  \n",
       "<mark class=\"entity\" style=\"background: #ddd; padding: 0.45em 0.6em; margin: 0 0.25em; line-height: 1; border-radius: 0.35em;\">\n",
       "    Bachelors of Technology\n",
       "    <span style=\"font-size: 0.8em; font-weight: bold; line-height: 1; border-radius: 0.35em; vertical-align: middle; margin-left: 0.5rem\">DEGREE</span>\n",
       "</mark>\n",
       " 2017 JECRC, Jaipur Information Technology: 73%  XII 2013 RBSE: 80.60%  X 2011 RBSE: 80.50% Experience  May, 2016 July, 2016 Android Developer (Intern) | ComSkyNet technology| Jaipur  Feb, 2017May, 2019 Software Engineer (Full stack developer) | \n",
       "<mark class=\"entity\" style=\"background: #ddd; padding: 0.45em 0.6em; margin: 0 0.25em; line-height: 1; border-radius: 0.35em;\">\n",
       "    Newgen Software Technologies Ltd.\n",
       "    <span style=\"font-size: 0.8em; font-weight: bold; line-height: 1; border-radius: 0.35em; vertical-align: middle; margin-left: 0.5rem\">COMPANIES WORKED AT</span>\n",
       "</mark>\n",
       " | Noida  June, 2020 Jan, 2022 Freelancing Projects  WORKEEFY: A innovative digital marketplace for instant home services provided by trained professionals that serve clients throughout the Toronto, GTA, Ottawa and now entering Calgary region too. Also, we had developed an admin side panel to handle all the flow of user Workeefyer (service provider) and admin activities. Tools Used: Visual Studio Code. Technologies: IonicJS, AngularJS, NodeJS. Team Size: 6  IAptt: It is an Android app which is useful for the students who are preparing for various competitive exams like GATE, IAS and GRE etc. Tools Used: Visual Studio Code, Android Studio. Technologies: firebase. Team Size: 1  BloodDonor Family: It is an Android application which can easily find blood donor, when immediate need of donor occurs. Using location we can easily locate donor and having an interactive interface to interact with each other. Tools Used: Visual Studio Code, Postman, Android Studio. Technologies: firebase, Google cloud messaging. Team Size: 1 Awards and Acknowledgments  Completed the Community Coaches Training Program of Sports &amp; Games for the Disabled by Ministry of Youth Affairs &amp; Sports, Gov. of India.  Gold Medalist in “Talent Search, Culture &amp; General knowledge” A State level Competition by Vidhyarthi Kalyan trust, Jaipur.  Awarded by Scholarship of MHRD (Ministry of Human Resource Development). ExtraCurricular Activities  Core team member of Renaissance’16An annual techno cultural fest of JECRC, Jaipur.  Volunteered “RUNWAY TO SUCCESS” an entrepreneurship event of TIE (The Indus Entrepreneurs), Jaipur.  Coordinate an event “New Venture” a business plan competition.  Participated as an International Press member in JECRC MUN’16.  Member of “Fotogra Freaks”, photography club of JECRC, Jaipur.  Student Coordinator at EDCIIPC cell at JECRC, Jaipur.  Organized various events during News Week 20172019 in Newgen Software.  Working as a journalist in weekly newspaper “Insaaf Ki Dagar”. Seminars/Workshop attended  Attended 2 days’ workshop on “Entrepreneurship Development Program” by MANASSO (Management associate private limited, Noida).  Actively participated in Food Tech (201415, 201516) organized by MSME.  Attended 1week workshop on Exports Marketing Documentation &amp; Procedure by MSME (Ministry of Micro, small &amp; Medium Enterprises).  Attended 2 days’ workshop “Digital India Summit” by Microsoft</div>\n",
       "</figure>\n",
       "</body>\n",
       "</html></span>"
      ],
      "text/plain": [
       "<IPython.core.display.HTML object>"
      ]
     },
     "metadata": {},
     "output_type": "display_data"
    },
    {
     "name": "stdout",
     "output_type": "stream",
     "text": [
      "\n",
      "Using the 'ent' visualizer\n",
      "Serving on http://0.0.0.0:5003 ...\n",
      "\n"
     ]
    }
   ],
   "source": [
    "from spacy import displacy\n",
    "\n",
    "displacy.serve(doc, style=\"ent\",auto_select_port=True)"
   ]
  },
  {
   "cell_type": "code",
   "execution_count": null,
   "id": "9e852b23-1bdb-40e2-84b9-d58c112dd3b2",
   "metadata": {},
   "outputs": [],
   "source": [
    "# confusion matrix to avoid clashing "
   ]
  },
  {
   "cell_type": "code",
   "execution_count": null,
   "id": "183ddcad-1291-49c0-b741-ca1e55918cc5",
   "metadata": {},
   "outputs": [],
   "source": []
  }
 ],
 "metadata": {
  "kernelspec": {
   "display_name": "Python 3 (ipykernel)",
   "language": "python",
   "name": "python3"
  },
  "language_info": {
   "codemirror_mode": {
    "name": "ipython",
    "version": 3
   },
   "file_extension": ".py",
   "mimetype": "text/x-python",
   "name": "python",
   "nbconvert_exporter": "python",
   "pygments_lexer": "ipython3",
   "version": "3.12.4"
  }
 },
 "nbformat": 4,
 "nbformat_minor": 5
}
